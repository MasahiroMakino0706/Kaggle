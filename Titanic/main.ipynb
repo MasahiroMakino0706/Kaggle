{
 "cells": [
  {
   "cell_type": "code",
   "execution_count": null,
   "id": "39ac7119-ffb4-4e06-b508-23c00f7e2f00",
   "metadata": {},
   "outputs": [
    {
     "name": "stdout",
     "output_type": "stream",
     "text": [
      "Archive:  titanic.zip\n",
      "replace gender_submission.csv? [y]es, [n]o, [A]ll, [N]one, [r]ename: "
     ]
    }
   ],
   "source": [
    "!unzip titanic.zip"
   ]
  },
  {
   "cell_type": "code",
   "execution_count": 1,
   "id": "2d63a27d-108f-4590-b9d2-79e3478bde04",
   "metadata": {},
   "outputs": [],
   "source": [
    "import numpy as np\n",
    "import matplotlib as mpl\n",
    "import matplotlib.pyplot as plt\n",
    "import pandas as pd\n",
    "import seaborn as sns"
   ]
  },
  {
   "cell_type": "code",
   "execution_count": 2,
   "id": "e17e8186-5f48-4239-8ac6-f98cddbc5c38",
   "metadata": {},
   "outputs": [],
   "source": [
    "train = pd.read_csv(\"./train.csv\")\n",
    "test = pd.read_csv(\"./test.csv\")"
   ]
  },
  {
   "cell_type": "code",
   "execution_count": 3,
   "id": "762176db-6baa-423b-b437-d337657a6df4",
   "metadata": {},
   "outputs": [
    {
     "data": {
      "text/plain": [
       "<AxesSubplot:xlabel='Sex', ylabel='Survived'>"
      ]
     },
     "execution_count": 3,
     "metadata": {},
     "output_type": "execute_result"
    },
    {
     "data": {
      "image/png": "[encoded data removed]",
      "text/plain": [
       "<Figure size 432x288 with 1 Axes>"
      ]
     },
     "metadata": {
      "needs_background": "light"
     },
     "output_type": "display_data"
    }
   ],
   "source": [
    "sns.barplot(x=\"Sex\", y=\"Survived\", hue=\"Pclass\", data=train)"
   ]
  },
  {
   "cell_type": "code",
   "execution_count": 4,
   "id": "2c37c452-bf44-47f2-b41d-2b7fb72e5d80",
   "metadata": {},
   "outputs": [
    {
     "data": {
      "text/plain": [
       "<AxesSubplot:xlabel='Sex', ylabel='Survived'>"
      ]
     },
     "execution_count": 4,
     "metadata": {},
     "output_type": "execute_result"
    },
    {
     "data": {
      "image/png": "[encoded data removed]",
      "text/plain": [
       "<Figure size 432x288 with 1 Axes>"
      ]
     },
     "metadata": {
      "needs_background": "light"
     },
     "output_type": "display_data"
    }
   ],
   "source": [
    "sns.barplot(x=\"Sex\", y=\"Survived\", hue=\"SibSp\", data=train)"
   ]
  },
  {
   "cell_type": "code",
   "execution_count": 5,
   "id": "214a693a-df7b-4710-a7c5-87abd48acdf4",
   "metadata": {},
   "outputs": [
    {
     "data": {
      "text/plain": [
       "<AxesSubplot:xlabel='Sex', ylabel='Survived'>"
      ]
     },
     "execution_count": 5,
     "metadata": {},
     "output_type": "execute_result"
    },
    {
     "data": {
      "image/png": "[encoded data removed]",
      "text/plain": [
       "<Figure size 432x288 with 1 Axes>"
      ]
     },
     "metadata": {
      "needs_background": "light"
     },
     "output_type": "display_data"
    }
   ],
   "source": [
    "sns.barplot(x=\"Sex\", y=\"Survived\", hue=\"Parch\", data=train)"
   ]
  },
  {
   "cell_type": "code",
   "execution_count": 6,
   "id": "e0cef3c2-2290-491e-9dde-3f2b6d71aee4",
   "metadata": {},
   "outputs": [
    {
     "data": {
      "text/plain": [
       "<AxesSubplot:xlabel='Pclass', ylabel='Fare'>"
      ]
     },
     "execution_count": 6,
     "metadata": {},
     "output_type": "execute_result"
    },
    {
     "data": {
      "image/png": "[encoded data removed]",
      "text/plain": [
       "<Figure size 432x288 with 1 Axes>"
      ]
     },
     "metadata": {
      "needs_background": "light"
     },
     "output_type": "display_data"
    }
   ],
   "source": [
    "sns.barplot(x=\"Pclass\", y=\"Fare\", hue=\"Survived\", data=train)"
   ]
  },
  {
   "cell_type": "code",
   "execution_count": 7,
   "id": "cc3089c8-08ae-4f4f-8160-3770728b2c96",
   "metadata": {},
   "outputs": [],
   "source": [
    "from sklearn.preprocessing import LabelEncoder\n",
    "\n",
    "# 性別の数値化\n",
    "sex_le = LabelEncoder()\n",
    "sex_le.classes_ = ['male', 'female']\n",
    "train['Sex'] = sex_le.transform(train['Sex'])"
   ]
  },
  {
   "cell_type": "code",
   "execution_count": 8,
   "id": "e2d2fbfd-7616-4095-bd13-6c3c800393af",
   "metadata": {},
   "outputs": [],
   "source": [
    "train_y = train['Survived']\n",
    "train_X = train[['Sex', 'Pclass', 'Fare']]\n",
    "test_X = test[['Sex', 'Pclass', 'Fare']]"
   ]
  },
  {
   "cell_type": "code",
   "execution_count": 10,
   "id": "82f551ad-183f-4b3a-abdc-b8eda6074d52",
   "metadata": {},
   "outputs": [
    {
     "data": {
      "text/plain": [
       "LogisticRegression(random_state=42)"
      ]
     },
     "execution_count": 10,
     "metadata": {},
     "output_type": "execute_result"
    }
   ],
   "source": [
    "from sklearn.linear_model import LogisticRegression\n",
    "\n",
    "# モデルを指定\n",
    "model = LogisticRegression(random_state=42)\n",
    "\n",
    "# sklearnは基本的にどのモデルでも fit() で訓練を行うことができます\n",
    "model.fit(train_X, train_y)"
   ]
  },
  {
   "cell_type": "code",
   "execution_count": 11,
   "id": "01e850d1-2844-4c84-bb24-99dca4d3eafb",
   "metadata": {},
   "outputs": [
    {
     "name": "stdout",
     "output_type": "stream",
     "text": [
      "train data acc: 0.7867564534231201\n"
     ]
    }
   ],
   "source": [
    "from sklearn.metrics import accuracy_score\n",
    "\n",
    "# 学習したモデルを使って「学習中に既に見た学習データ」と「未知の検証データ」に対して予測を行なってみます\n",
    "pred = model.predict(train_X)\n",
    "print(\"train data acc:\", accuracy_score(train_y, pred))"
   ]
  },
  {
   "cell_type": "code",
   "execution_count": 12,
   "id": "36e79417-60ed-4a7e-94c6-073c024ee9c7",
   "metadata": {},
   "outputs": [
    {
     "name": "stdout",
     "output_type": "stream",
     "text": [
      "0.7699704977716402\n",
      "{'C': 10, 'multi_class': 'multinomial', 'penalty': 'l2', 'solver': 'sag'}\n"
     ]
    }
   ],
   "source": [
    "from sklearn.model_selection import GridSearchCV\n",
    "from sklearn.linear_model import LogisticRegression\n",
    "\n",
    "params = {\n",
    "    \"penalty\": [\"l2\"], \n",
    "    \"C\": [0.1, 1, 10, 100, 1000],\n",
    "    \"solver\": [\"newton-cg\", \"sag\", \"saga\", \"lbfgs\"],\n",
    "    \"multi_class\": (\"ovr\", \"multinomial\")\n",
    "    }\n",
    "\n",
    "# model = GridSearchCV(LogisticRegression(random_state=42), params)\n",
    "model = GridSearchCV(LogisticRegression(random_state=42, class_weight=\"balanced\", max_iter=10000), params)\n",
    "model.fit(train_X, train_y)\n",
    "print(model.best_score_)\n",
    "print(model.best_params_)"
   ]
  },
  {
   "cell_type": "code",
   "execution_count": null,
   "id": "fc83556e-d45c-45e2-88bf-eba1702ad201",
   "metadata": {},
   "outputs": [],
   "source": []
  },
  {
   "cell_type": "code",
   "execution_count": null,
   "id": "c807f32e-2c9e-4931-a814-057e1cb59401",
   "metadata": {},
   "outputs": [],
   "source": []
  }
 ],
 "metadata": {
  "kernelspec": {
   "display_name": "Python 3",
   "language": "python",
   "name": "python3"
  },
  "language_info": {
   "codemirror_mode": {
    "name": "ipython",
    "version": 3
   },
   "file_extension": ".py",
   "mimetype": "text/x-python",
   "name": "python",
   "nbconvert_exporter": "python",
   "pygments_lexer": "ipython3",
   "version": "3.8.8"
  }
 },
 "nbformat": 4,
 "nbformat_minor": 5
}
